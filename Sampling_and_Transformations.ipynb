{
  "cells": [
    {
      "cell_type": "markdown",
      "metadata": {
        "id": "view-in-github",
        "colab_type": "text"
      },
      "source": [
        "<a href=\"https://colab.research.google.com/github/pankajpatil101099/Data-Science/blob/main/Sampling_and_Transformations.ipynb\" target=\"_parent\"><img src=\"https://colab.research.google.com/assets/colab-badge.svg\" alt=\"Open In Colab\"/></a>"
      ]
    },
    {
      "cell_type": "markdown",
      "metadata": {
        "id": "s56m1dTJ41Mh"
      },
      "source": [
        "#### Upsampling Data"
      ]
    },
    {
      "cell_type": "code",
      "execution_count": 10,
      "metadata": {
        "colab": {
          "base_uri": "https://localhost:8080/"
        },
        "id": "w3KCXQO041Mk",
        "outputId": "466d0109-f097-4f0a-8ba3-f31ec53ce954"
      },
      "outputs": [
        {
          "output_type": "stream",
          "name": "stderr",
          "text": [
            "/usr/local/lib/python3.7/dist-packages/ipykernel_launcher.py:3: FutureWarning: The pandas.datetime class is deprecated and will be removed from pandas in a future version. Import from datetime module instead.\n",
            "  This is separate from the ipykernel package so we can avoid doing imports until\n"
          ]
        }
      ],
      "source": [
        "# upsample to daily intervals\n",
        "from pandas import read_csv\n",
        "from pandas import datetime\n",
        "from matplotlib import pyplot"
      ]
    },
    {
      "cell_type": "code",
      "execution_count": 11,
      "metadata": {
        "id": "v179ySUF41Mn"
      },
      "outputs": [],
      "source": [
        "series = read_csv('sales.csv', header=0, index_col=0, parse_dates=True,squeeze=True)"
      ]
    },
    {
      "cell_type": "code",
      "execution_count": 12,
      "metadata": {
        "colab": {
          "base_uri": "https://localhost:8080/"
        },
        "id": "4H_IRNPD41Mo",
        "outputId": "45ee7916-e693-414f-fef6-819c26e331b4"
      },
      "outputs": [
        {
          "output_type": "execute_result",
          "data": {
            "text/plain": [
              "Month\n",
              "1990-01-01    266.0\n",
              "1990-02-01    145.9\n",
              "1990-03-01    183.1\n",
              "1990-04-01    119.3\n",
              "1990-05-01    180.3\n",
              "1990-06-01    168.5\n",
              "1990-07-01    231.8\n",
              "1990-08-01    224.5\n",
              "1990-09-01    192.8\n",
              "1990-10-01    122.9\n",
              "1990-11-01    336.5\n",
              "1990-12-01    185.9\n",
              "1991-01-01    194.3\n",
              "1991-02-01    149.5\n",
              "1991-03-01    210.1\n",
              "1991-04-01    273.3\n",
              "1991-05-01    191.4\n",
              "1991-06-01    287.0\n",
              "1991-07-01    226.0\n",
              "1991-08-01    303.6\n",
              "1991-09-01    289.9\n",
              "1991-10-01    421.6\n",
              "1991-11-01    264.5\n",
              "1991-12-01    342.3\n",
              "1992-01-01    339.7\n",
              "1992-02-01    440.4\n",
              "1992-03-01    315.9\n",
              "1992-04-01    439.3\n",
              "1992-05-01    401.3\n",
              "1992-06-01    437.4\n",
              "1992-07-01    575.5\n",
              "1992-08-01    407.6\n",
              "1992-09-01    682.0\n",
              "1992-10-01    475.3\n",
              "1992-11-01    581.3\n",
              "1992-12-01    646.9\n",
              "Name: Sales, dtype: float64"
            ]
          },
          "metadata": {},
          "execution_count": 12
        }
      ],
      "source": [
        "series"
      ]
    },
    {
      "cell_type": "code",
      "execution_count": 13,
      "metadata": {
        "colab": {
          "base_uri": "https://localhost:8080/"
        },
        "id": "FFsSnEKW41Mp",
        "outputId": "db36ec6d-8949-4dbd-b92b-3c4e75c74666"
      },
      "outputs": [
        {
          "output_type": "stream",
          "name": "stdout",
          "text": [
            "Month\n",
            "1990-01-01    266.0\n",
            "1990-01-02      NaN\n",
            "1990-01-03      NaN\n",
            "1990-01-04      NaN\n",
            "1990-01-05      NaN\n",
            "1990-01-06      NaN\n",
            "1990-01-07      NaN\n",
            "1990-01-08      NaN\n",
            "1990-01-09      NaN\n",
            "1990-01-10      NaN\n",
            "1990-01-11      NaN\n",
            "1990-01-12      NaN\n",
            "1990-01-13      NaN\n",
            "1990-01-14      NaN\n",
            "1990-01-15      NaN\n",
            "1990-01-16      NaN\n",
            "1990-01-17      NaN\n",
            "1990-01-18      NaN\n",
            "1990-01-19      NaN\n",
            "1990-01-20      NaN\n",
            "1990-01-21      NaN\n",
            "1990-01-22      NaN\n",
            "1990-01-23      NaN\n",
            "1990-01-24      NaN\n",
            "1990-01-25      NaN\n",
            "1990-01-26      NaN\n",
            "1990-01-27      NaN\n",
            "1990-01-28      NaN\n",
            "1990-01-29      NaN\n",
            "1990-01-30      NaN\n",
            "1990-01-31      NaN\n",
            "1990-02-01    145.9\n",
            "Freq: D, Name: Sales, dtype: float64\n"
          ]
        }
      ],
      "source": [
        "upsampled = series.resample('D').mean()\n",
        "print(upsampled.head(32))"
      ]
    },
    {
      "cell_type": "markdown",
      "metadata": {
        "id": "aD9XvSil41Mp"
      },
      "source": [
        "##### interpolate the missing value"
      ]
    },
    {
      "cell_type": "code",
      "execution_count": 14,
      "metadata": {
        "colab": {
          "base_uri": "https://localhost:8080/",
          "height": 881
        },
        "id": "661mijyJ41Mq",
        "outputId": "741c8e62-e105-4a85-a1ad-82389ed50edb"
      },
      "outputs": [
        {
          "output_type": "stream",
          "name": "stdout",
          "text": [
            "Month\n",
            "1990-01-01    266.000000\n",
            "1990-01-02    262.125806\n",
            "1990-01-03    258.251613\n",
            "1990-01-04    254.377419\n",
            "1990-01-05    250.503226\n",
            "1990-01-06    246.629032\n",
            "1990-01-07    242.754839\n",
            "1990-01-08    238.880645\n",
            "1990-01-09    235.006452\n",
            "1990-01-10    231.132258\n",
            "1990-01-11    227.258065\n",
            "1990-01-12    223.383871\n",
            "1990-01-13    219.509677\n",
            "1990-01-14    215.635484\n",
            "1990-01-15    211.761290\n",
            "1990-01-16    207.887097\n",
            "1990-01-17    204.012903\n",
            "1990-01-18    200.138710\n",
            "1990-01-19    196.264516\n",
            "1990-01-20    192.390323\n",
            "1990-01-21    188.516129\n",
            "1990-01-22    184.641935\n",
            "1990-01-23    180.767742\n",
            "1990-01-24    176.893548\n",
            "1990-01-25    173.019355\n",
            "1990-01-26    169.145161\n",
            "1990-01-27    165.270968\n",
            "1990-01-28    161.396774\n",
            "1990-01-29    157.522581\n",
            "1990-01-30    153.648387\n",
            "1990-01-31    149.774194\n",
            "1990-02-01    145.900000\n",
            "Freq: D, Name: Sales, dtype: float64\n"
          ]
        },
        {
          "output_type": "display_data",
          "data": {
            "image/png": "[encoded data removed]",
            "text/plain": [
              "<Figure size 432x288 with 1 Axes>"
            ]
          },
          "metadata": {
            "needs_background": "light"
          }
        }
      ],
      "source": [
        "interpolated = upsampled.interpolate(method='linear')\n",
        "print(interpolated.head(32))\n",
        "interpolated.plot()\n",
        "pyplot.show()"
      ]
    },
    {
      "cell_type": "markdown",
      "metadata": {
        "id": "SWUl_pIO41Mr"
      },
      "source": [
        "#### Downsampling Data"
      ]
    },
    {
      "cell_type": "code",
      "execution_count": 15,
      "metadata": {
        "colab": {
          "base_uri": "https://localhost:8080/"
        },
        "id": "R7JCkA8l41Mr",
        "outputId": "e371ad42-c5ef-47a0-b1d5-ed61ae5e307a"
      },
      "outputs": [
        {
          "output_type": "stream",
          "name": "stderr",
          "text": [
            "/usr/local/lib/python3.7/dist-packages/ipykernel_launcher.py:3: FutureWarning: The pandas.datetime class is deprecated and will be removed from pandas in a future version. Import from datetime module instead.\n",
            "  This is separate from the ipykernel package so we can avoid doing imports until\n"
          ]
        }
      ],
      "source": [
        "# downsample to quarterly intervals\n",
        "from pandas import read_csv\n",
        "from pandas import datetime\n",
        "from matplotlib import pyplot"
      ]
    },
    {
      "cell_type": "code",
      "execution_count": 16,
      "metadata": {
        "id": "vKc5dQt841Ms"
      },
      "outputs": [],
      "source": [
        "resample = series.resample('Q')\n",
        "quarterly_mean_sales = resample.mean()"
      ]
    },
    {
      "cell_type": "markdown",
      "metadata": {
        "id": "WsAb5yP541Ms"
      },
      "source": [
        "# Tranformations"
      ]
    },
    {
      "cell_type": "code",
      "execution_count": 17,
      "metadata": {
        "id": "1kB4Yhhe41Mt"
      },
      "outputs": [],
      "source": [
        "# load and plot a time series\n",
        "from pandas import read_csv\n",
        "from matplotlib import pyplot"
      ]
    },
    {
      "cell_type": "code",
      "execution_count": 18,
      "metadata": {
        "id": "5MqYDYVM41Mt"
      },
      "outputs": [],
      "source": [
        "series = read_csv('airline-passengers.csv', header=0, index_col=0, parse_dates=True)"
      ]
    },
    {
      "cell_type": "code",
      "execution_count": 19,
      "metadata": {
        "colab": {
          "base_uri": "https://localhost:8080/",
          "height": 265
        },
        "id": "ybG1wv7A41Mu",
        "outputId": "a267b918-f204-4a5e-9678-1d3ec9298e85"
      },
      "outputs": [
        {
          "output_type": "display_data",
          "data": {
            "image/png": "[encoded data removed]",
            "text/plain": [
              "<Figure size 432x288 with 2 Axes>"
            ]
          },
          "metadata": {
            "needs_background": "light"
          }
        }
      ],
      "source": [
        "# line plot\n",
        "pyplot.subplot(211)\n",
        "pyplot.plot(series)\n",
        "# histogram\n",
        "pyplot.subplot(212)\n",
        "pyplot.hist(series)\n",
        "pyplot.show()"
      ]
    },
    {
      "cell_type": "markdown",
      "metadata": {
        "id": "c594_v0O41Mu"
      },
      "source": [
        "#### Square Root Transform"
      ]
    },
    {
      "cell_type": "code",
      "execution_count": 20,
      "metadata": {
        "id": "kuy8edki41Mv"
      },
      "outputs": [],
      "source": [
        "from pandas import read_csv\n",
        "from pandas import DataFrame\n",
        "from numpy import sqrt\n",
        "from matplotlib import pyplot"
      ]
    },
    {
      "cell_type": "code",
      "execution_count": 21,
      "metadata": {
        "id": "gzpurD-J41Mw"
      },
      "outputs": [],
      "source": [
        "dataframe = DataFrame(series.values)\n",
        "dataframe.columns = ['passengers']\n",
        "dataframe['passengers'] = sqrt(dataframe['passengers'])"
      ]
    },
    {
      "cell_type": "code",
      "execution_count": 22,
      "metadata": {
        "colab": {
          "base_uri": "https://localhost:8080/",
          "height": 265
        },
        "id": "FifG28-O41Mw",
        "outputId": "8ac76450-1961-4f6e-af20-ece2e2a6f605"
      },
      "outputs": [
        {
          "output_type": "display_data",
          "data": {
            "image/png": "[encoded data removed]",
            "text/plain": [
              "<Figure size 432x288 with 2 Axes>"
            ]
          },
          "metadata": {
            "needs_background": "light"
          }
        }
      ],
      "source": [
        "# line plot\n",
        "pyplot.subplot(211)\n",
        "pyplot.plot(dataframe['passengers'])\n",
        "# histogram\n",
        "pyplot.subplot(212)\n",
        "pyplot.hist(dataframe['passengers'])\n",
        "pyplot.show()"
      ]
    },
    {
      "cell_type": "markdown",
      "metadata": {
        "id": "4Ue5C4Qo41Mx"
      },
      "source": [
        "#### Log Transform"
      ]
    },
    {
      "cell_type": "code",
      "execution_count": 23,
      "metadata": {
        "colab": {
          "base_uri": "https://localhost:8080/",
          "height": 268
        },
        "id": "W1NEUqE441Mx",
        "outputId": "b0950a39-6aeb-4d55-d698-34e2f3fe83f8"
      },
      "outputs": [
        {
          "output_type": "display_data",
          "data": {
            "image/png": "[encoded data removed]",
            "text/plain": [
              "<Figure size 432x288 with 2 Axes>"
            ]
          },
          "metadata": {
            "needs_background": "light"
          }
        }
      ],
      "source": [
        "from numpy import log\n",
        "dataframe = DataFrame(series.values)\n",
        "dataframe.columns = ['passengers']\n",
        "dataframe['passengers'] = log(dataframe['passengers'])\n",
        "\n",
        "# line plot\n",
        "pyplot.subplot(211)\n",
        "pyplot.plot(dataframe['passengers'])\n",
        "# histogram\n",
        "pyplot.subplot(212)\n",
        "pyplot.hist(dataframe['passengers'])\n",
        "pyplot.show()"
      ]
    },
    {
      "cell_type": "code",
      "execution_count": 23,
      "metadata": {
        "id": "YvDSWYXW41My"
      },
      "outputs": [],
      "source": [
        ""
      ]
    },
    {
      "cell_type": "code",
      "execution_count": 24,
      "metadata": {
        "colab": {
          "base_uri": "https://localhost:8080/",
          "height": 413
        },
        "id": "9cAWY-iQ41My",
        "outputId": "1bef1fbb-c2e4-4c5e-8375-5f1de1b54f2e"
      },
      "outputs": [
        {
          "output_type": "stream",
          "name": "stdout",
          "text": [
            "Month\n",
            "1990-03-31    198.333333\n",
            "1990-06-30    156.033333\n",
            "1990-09-30    216.366667\n",
            "1990-12-31    215.100000\n",
            "1991-03-31    184.633333\n",
            "Freq: Q-DEC, Name: Sales, dtype: float64\n"
          ]
        },
        {
          "output_type": "display_data",
          "data": {
            "image/png": "[encoded data removed]",
            "text/plain": [
              "<Figure size 432x288 with 1 Axes>"
            ]
          },
          "metadata": {
            "needs_background": "light"
          }
        }
      ],
      "source": [
        "print(quarterly_mean_sales.head())\n",
        "quarterly_mean_sales.plot()\n",
        "pyplot.show()"
      ]
    }
  ],
  "metadata": {
    "kernelspec": {
      "display_name": "Python 3",
      "language": "python",
      "name": "python3"
    },
    "language_info": {
      "codemirror_mode": {
        "name": "ipython",
        "version": 3
      },
      "file_extension": ".py",
      "mimetype": "text/x-python",
      "name": "python",
      "nbconvert_exporter": "python",
      "pygments_lexer": "ipython3",
      "version": "3.7.4"
    },
    "colab": {
      "name": "Sampling and Transformations.ipynb",
      "provenance": [],
      "include_colab_link": true
    }
  },
  "nbformat": 4,
  "nbformat_minor": 0
}